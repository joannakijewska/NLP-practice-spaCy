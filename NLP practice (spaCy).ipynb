{
 "cells": [
  {
   "cell_type": "markdown",
   "metadata": {},
   "source": [
    "# Introduction: \n",
    "\n",
    "\n",
    "This notebook was created as a place for practicing NLP library - spaCy. It includes experimenting with various features of this tool:\n",
    "\n",
    "* exploring available data structures\n",
    "* learning aboout recognizing patterns\n",
    "* investigating similarities between sentences and spans\n",
    "* rule-based matching and writing own rules\n",
    "* learning about the role of entities.\n",
    "\n",
    "\n",
    "# Importing libraries"
   ]
  },
  {
   "cell_type": "code",
   "execution_count": 154,
   "metadata": {},
   "outputs": [],
   "source": [
    "import spacy"
   ]
  },
  {
   "cell_type": "markdown",
   "metadata": {},
   "source": [
    "#### Ensuring that we have a small english model imported correctly "
   ]
  },
  {
   "cell_type": "code",
   "execution_count": 4,
   "metadata": {},
   "outputs": [],
   "source": [
    "nlp = spacy.load(\"en_core_web_sm\")"
   ]
  },
  {
   "cell_type": "markdown",
   "metadata": {},
   "source": [
    "# 1. Exporing basic features of Spacy"
   ]
  },
  {
   "cell_type": "markdown",
   "metadata": {},
   "source": [
    "Create a blank pipeline of a given language class (English)."
   ]
  },
  {
   "cell_type": "code",
   "execution_count": 5,
   "metadata": {},
   "outputs": [],
   "source": [
    "nlp = spacy.blank(\"en\")"
   ]
  },
  {
   "cell_type": "markdown",
   "metadata": {},
   "source": [
    "Define a Doc and iterate over tokens (words, symbols):"
   ]
  },
  {
   "cell_type": "code",
   "execution_count": 80,
   "metadata": {},
   "outputs": [
    {
     "name": "stdout",
     "output_type": "stream",
     "text": [
      "I\n",
      "had\n",
      "a\n",
      "wonderful\n",
      "day\n",
      "today\n",
      "!\n",
      "I\n",
      "went\n",
      "on\n",
      "a\n",
      "walk\n",
      ",\n",
      "read\n",
      "a\n",
      "book\n",
      "and\n",
      "listened\n",
      "to\n",
      "music\n",
      ".\n"
     ]
    }
   ],
   "source": [
    "doc = nlp(\"I had a wonderful day today! I went on a walk, read a book and listened to music.\")\n",
    "\n",
    "for token in doc:\n",
    "    print(token.text)"
   ]
  },
  {
   "cell_type": "code",
   "execution_count": 81,
   "metadata": {},
   "outputs": [
    {
     "name": "stdout",
     "output_type": "stream",
     "text": [
      "I had a wonderful day today!\n",
      "I went on a walk, read a book and listened to music.\n"
     ]
    }
   ],
   "source": [
    "for sentence in doc.sents:\n",
    "    print(sentence)"
   ]
  },
  {
   "cell_type": "code",
   "execution_count": 82,
   "metadata": {},
   "outputs": [
    {
     "name": "stdout",
     "output_type": "stream",
     "text": [
      "I\n",
      "had\n",
      "a\n",
      "wonderful\n",
      "day\n",
      "today\n",
      "!\n",
      "I\n",
      "went\n",
      "on\n",
      "a\n",
      "walk\n",
      ",\n",
      "read\n",
      "a\n",
      "book\n",
      "and\n",
      "listened\n",
      "to\n",
      "music\n",
      ".\n"
     ]
    }
   ],
   "source": [
    "for sentence in doc.sents:\n",
    "    for word in sentence:\n",
    "        print(word)"
   ]
  },
  {
   "cell_type": "markdown",
   "metadata": {},
   "source": [
    "A slice from a Doc = Span:"
   ]
  },
  {
   "cell_type": "code",
   "execution_count": 7,
   "metadata": {},
   "outputs": [
    {
     "name": "stdout",
     "output_type": "stream",
     "text": [
      "had a wonderful\n"
     ]
    }
   ],
   "source": [
    "span = doc[1:4]\n",
    "print(span)"
   ]
  },
  {
   "cell_type": "code",
   "execution_count": 8,
   "metadata": {},
   "outputs": [
    {
     "name": "stdout",
     "output_type": "stream",
     "text": [
      "Index:    [0, 1, 2, 3, 4, 5, 6]\n",
      "Text:     ['I', 'had', 'a', 'wonderful', 'day', 'today', '!']\n",
      "is_alpha: [True, True, True, True, True, True, False]\n",
      "is_punct: [False, False, False, False, False, False, True]\n",
      "like_num: [False, False, False, False, False, False, False]\n"
     ]
    }
   ],
   "source": [
    "print(\"Index:   \", [token.i for token in doc])\n",
    "print(\"Text:    \", [token.text for token in doc])\n",
    "\n",
    "print(\"is_alpha:\", [token.is_alpha for token in doc])\n",
    "print(\"is_punct:\", [token.is_punct for token in doc])\n",
    "print(\"like_num:\", [token.like_num for token in doc])"
   ]
  },
  {
   "cell_type": "markdown",
   "metadata": {},
   "source": [
    "Three methods as an example:\n",
    "* `is_alpha` - whether the token consists of alphabetic characters\n",
    "* `is_punct` - whether it's punctuation\n",
    "* `like_num` - whether it resembles a number"
   ]
  },
  {
   "cell_type": "markdown",
   "metadata": {},
   "source": [
    "Processing a simple example searching for a percentage symbol (%):"
   ]
  },
  {
   "cell_type": "code",
   "execution_count": 9,
   "metadata": {},
   "outputs": [
    {
     "name": "stdout",
     "output_type": "stream",
     "text": [
      "Percentage found: 60\n",
      "Percentage found: 4\n"
     ]
    }
   ],
   "source": [
    "doc = nlp(\n",
    "    \"In 1990, more than 60% of people in East Asia were in extreme poverty. \"\n",
    "    \"Now less than 4% are.\")\n",
    "\n",
    "for token in doc:\n",
    "    if token.like_num:\n",
    "        next_token = doc[token.i + 1]\n",
    "        if next_token.text == \"%\":\n",
    "            print(\"Percentage found:\", token.text)"
   ]
  },
  {
   "cell_type": "markdown",
   "metadata": {},
   "source": [
    "### Trained pipelines"
   ]
  },
  {
   "cell_type": "code",
   "execution_count": 10,
   "metadata": {},
   "outputs": [],
   "source": [
    "doc = nlp(\"Anna is a lawyer and she lives in Sydney\")"
   ]
  },
  {
   "cell_type": "markdown",
   "metadata": {},
   "source": [
    "#### Part of speech (`pos_`)\n",
    "\n",
    "Attributes that return strings usually end with an underscore – attributes without the underscore return an integer ID value."
   ]
  },
  {
   "cell_type": "code",
   "execution_count": 11,
   "metadata": {},
   "outputs": [
    {
     "name": "stdout",
     "output_type": "stream",
     "text": [
      "Anna \n",
      "is \n",
      "a \n",
      "lawyer \n",
      "and \n",
      "she \n",
      "lives \n",
      "in \n",
      "Sydney \n"
     ]
    }
   ],
   "source": [
    "for token in doc:\n",
    "    print(token.text, token.pos_) "
   ]
  },
  {
   "cell_type": "markdown",
   "metadata": {},
   "source": [
    "#### Dependency (`dep_`) - how the words are related  \n",
    "\n",
    "* nominal subject\n",
    "* direct object\n",
    "* determiner (article)\n",
    "* ..."
   ]
  },
  {
   "cell_type": "code",
   "execution_count": 12,
   "metadata": {},
   "outputs": [
    {
     "name": "stdout",
     "output_type": "stream",
     "text": [
      "Anna   Anna\n",
      "is   is\n",
      "a   a\n",
      "lawyer   lawyer\n",
      "and   and\n",
      "she   she\n",
      "lives   lives\n",
      "in   in\n",
      "Sydney   Sydney\n"
     ]
    }
   ],
   "source": [
    "for token in doc:\n",
    "    print(token.text, token.pos_, token.dep_, token.head.text) # parent token"
   ]
  },
  {
   "cell_type": "markdown",
   "metadata": {},
   "source": [
    "#### Entities"
   ]
  },
  {
   "cell_type": "code",
   "execution_count": 13,
   "metadata": {},
   "outputs": [],
   "source": [
    "doc = nlp(\"Anna is a lawyer and she lives in Sydney, she earns $1 million per year\")"
   ]
  },
  {
   "cell_type": "code",
   "execution_count": 14,
   "metadata": {},
   "outputs": [],
   "source": [
    "for ent in doc.ents:\n",
    "    print(ent.text, ent.label_)"
   ]
  },
  {
   "cell_type": "code",
   "execution_count": 15,
   "metadata": {},
   "outputs": [
    {
     "data": {
      "text/plain": [
       "'object of preposition'"
      ]
     },
     "execution_count": 15,
     "metadata": {},
     "output_type": "execute_result"
    }
   ],
   "source": [
    "spacy.explain(\"pobj\")"
   ]
  },
  {
   "cell_type": "markdown",
   "metadata": {},
   "source": [
    "### Finding patterns - official spaCy tutorial, own example"
   ]
  },
  {
   "cell_type": "code",
   "execution_count": 24,
   "metadata": {},
   "outputs": [],
   "source": [
    "from spacy.matcher import Matcher"
   ]
  },
  {
   "cell_type": "code",
   "execution_count": 39,
   "metadata": {},
   "outputs": [
    {
     "name": "stdout",
     "output_type": "stream",
     "text": [
      "Total matches found: 3\n",
      "Match found: 105 calories\n",
      "Match found: 205 calories\n",
      "Match found: 168 calories\n"
     ]
    }
   ],
   "source": [
    "matcher = Matcher(nlp.vocab)\n",
    "\n",
    "doc = nlp(\n",
    "    \"A banana has only 105 calories, whereas one slice of pizza has 298 calories.\" # punctuation marks MATTER!\n",
    "    \"1 cup of rice has 205 calories, which might be a good foundation of your dinner.\"\n",
    "    \"Nuts are a good source of energy, 1 ounce has 168 calories\"\n",
    ")\n",
    "\n",
    "pattern = [{\"IS_DIGIT\": True}, {\"TEXT\": \"calories\"}]\n",
    "\n",
    "# Add the pattern to the matcher and apply the matcher to the doc\n",
    "matcher.add(\"CALORIES_PATTERN\", [pattern])\n",
    "matches = matcher(doc)\n",
    "print(\"Total matches found:\", len(matches))\n",
    "\n",
    "# Iterate over the matches and print the span text\n",
    "for match_id, start, end in matches:\n",
    "    print(\"Match found:\", doc[start:end].text)"
   ]
  },
  {
   "cell_type": "markdown",
   "metadata": {},
   "source": [
    "## Data Structures"
   ]
  },
  {
   "cell_type": "code",
   "execution_count": 41,
   "metadata": {},
   "outputs": [],
   "source": [
    "nlp.vocab.strings.add(\"coffee\")\n",
    "coffee_hash = nlp.vocab.strings[\"coffee\"]\n",
    "coffee_string = nlp.vocab.strings[coffee_hash]"
   ]
  },
  {
   "cell_type": "code",
   "execution_count": 44,
   "metadata": {},
   "outputs": [],
   "source": [
    "string = nlp.vocab.strings[3197928453018144401]"
   ]
  },
  {
   "cell_type": "markdown",
   "metadata": {},
   "source": [
    "Lexemes are context-independent entries in the vocabulary. You can get a lexeme by looking up a string or a hash ID in the vocab. Lexemes expose attributes, just like tokens.\n",
    "\n",
    "Hashes can’t be reversed. To prevent this problem, add the word to the new vocab by processing a text or looking up the string, or use the same vocab to resolve the hash back to a string."
   ]
  },
  {
   "cell_type": "markdown",
   "metadata": {},
   "source": [
    "### Spans"
   ]
  },
  {
   "cell_type": "code",
   "execution_count": 47,
   "metadata": {},
   "outputs": [],
   "source": [
    "from spacy.tokens import Doc, Span\n",
    "\n",
    "# The words and spaces to create the doc from\n",
    "words = [\"Hello\", \"world\", \"!\"]\n",
    "spaces = [True, False, False]\n",
    "\n",
    "# Create a doc manually\n",
    "doc = Doc(nlp.vocab, words=words, spaces=spaces)\n",
    "\n",
    "# Create a span manually\n",
    "span = Span(doc, 0, 2)\n",
    "\n",
    "# Create a span with a label\n",
    "span_with_label = Span(doc, 0, 2, label=\"GREETING\")\n",
    "\n",
    "# Add span to the doc.ents\n",
    "doc.ents = [span_with_label]"
   ]
  },
  {
   "cell_type": "code",
   "execution_count": 48,
   "metadata": {},
   "outputs": [
    {
     "data": {
      "text/plain": [
       "Hello world"
      ]
     },
     "execution_count": 48,
     "metadata": {},
     "output_type": "execute_result"
    }
   ],
   "source": [
    "span_with_label"
   ]
  },
  {
   "cell_type": "code",
   "execution_count": 49,
   "metadata": {},
   "outputs": [
    {
     "data": {
      "text/plain": [
       "(Hello world,)"
      ]
     },
     "execution_count": 49,
     "metadata": {},
     "output_type": "execute_result"
    }
   ],
   "source": [
    "doc.ents"
   ]
  },
  {
   "cell_type": "markdown",
   "metadata": {},
   "source": [
    "#### Creating a Doc"
   ]
  },
  {
   "cell_type": "code",
   "execution_count": 53,
   "metadata": {},
   "outputs": [
    {
     "name": "stdout",
     "output_type": "stream",
     "text": [
      "Oh, really?!\n"
     ]
    }
   ],
   "source": [
    "from spacy.tokens import Doc\n",
    "nlp = spacy.blank(\"en\")\n",
    "\n",
    "# Desired text: \"Oh, really?!\"\n",
    "words = [\"Oh\", \",\", \"really\", \"?\", \"!\"]\n",
    "spaces = [False, True, False, False, False]\n",
    "\n",
    "# Create a Doc from the words and spaces\n",
    "doc = Doc(nlp.vocab, words=words, spaces=spaces)\n",
    "print(doc.text)"
   ]
  },
  {
   "cell_type": "markdown",
   "metadata": {},
   "source": [
    "#### Screating a Span, adding the span to the doc's entities"
   ]
  },
  {
   "cell_type": "code",
   "execution_count": 54,
   "metadata": {},
   "outputs": [
    {
     "name": "stdout",
     "output_type": "stream",
     "text": [
      "I like David Bowie\n",
      "David Bowie PERSON\n",
      "[('David Bowie', 'PERSON')]\n"
     ]
    }
   ],
   "source": [
    "# Import the Doc and Span classes\n",
    "from spacy.tokens import Doc, Span\n",
    "\n",
    "words = [\"I\", \"like\", \"David\", \"Bowie\"]\n",
    "spaces = [True, True, True, False]\n",
    "\n",
    "# Create a doc from the words and spaces\n",
    "doc = Doc(nlp.vocab, words=words, spaces=spaces)\n",
    "print(doc.text)\n",
    "\n",
    "# Create a span for \"David Bowie\" from the doc and assign it the label \"PERSON\"\n",
    "span = Span(doc, 2, 4, label=\"PERSON\")\n",
    "print(span.text, span.label_)\n",
    "\n",
    "# Add the span to the doc's entities\n",
    "doc.ents = [span]\n",
    "\n",
    "# Print entities' text and labels\n",
    "print([(ent.text, ent.label_) for ent in doc.ents])"
   ]
  },
  {
   "cell_type": "code",
   "execution_count": 55,
   "metadata": {},
   "outputs": [
    {
     "name": "stdout",
     "output_type": "stream",
     "text": [
      "Found proper noun before a verb: Berlin\n"
     ]
    }
   ],
   "source": [
    "import spacy\n",
    "\n",
    "nlp = spacy.load(\"en_core_web_sm\")\n",
    "doc = nlp(\"Berlin looks like a nice city\")\n",
    "\n",
    "# Get all tokens and part-of-speech tags\n",
    "token_texts = [token.text for token in doc]\n",
    "pos_tags = [token.pos_ for token in doc]\n",
    "\n",
    "for index, pos in enumerate(pos_tags):\n",
    "    # Check if the current token is a proper noun\n",
    "    if pos == \"PROPN\":\n",
    "        # Check if the next token is a verb\n",
    "        if pos_tags[index + 1] == \"VERB\":\n",
    "            result = token_texts[index]\n",
    "            print(\"Found proper noun before a verb:\", result)"
   ]
  },
  {
   "cell_type": "markdown",
   "metadata": {},
   "source": [
    "## Similarity between sentences and words"
   ]
  },
  {
   "cell_type": "code",
   "execution_count": 57,
   "metadata": {},
   "outputs": [
    {
     "name": "stdout",
     "output_type": "stream",
     "text": [
      "0.8698332283318978\n"
     ]
    }
   ],
   "source": [
    "# Load a larger pipeline with vectors\n",
    "nlp = spacy.load(\"en_core_web_md\")\n",
    "\n",
    "# Compare two documents\n",
    "doc1 = nlp(\"I like fast food\")\n",
    "doc2 = nlp(\"I like pizza\")\n",
    "print(doc1.similarity(doc2))"
   ]
  },
  {
   "cell_type": "markdown",
   "metadata": {},
   "source": [
    "#### Word vectors"
   ]
  },
  {
   "cell_type": "code",
   "execution_count": null,
   "metadata": {},
   "outputs": [],
   "source": [
    "doc = nlp(\"I have a banana\")\n",
    "# Access the vector via the token.vector attribute\n",
    "print(doc[3].vector)"
   ]
  },
  {
   "cell_type": "markdown",
   "metadata": {},
   "source": [
    "## Rule-based Matching"
   ]
  },
  {
   "cell_type": "code",
   "execution_count": 58,
   "metadata": {},
   "outputs": [],
   "source": [
    "# Initialize with the shared vocab\n",
    "matcher = Matcher(nlp.vocab)\n",
    "\n",
    "# Patterns are lists of dictionaries describing the tokens\n",
    "pattern = [{\"LEMMA\": \"love\", \"POS\": \"VERB\"}, {\"LOWER\": \"cats\"}]\n",
    "matcher.add(\"LOVE_CATS\", [pattern])\n",
    "\n",
    "# Operators can specify how often a token should be matched\n",
    "pattern = [{\"TEXT\": \"very\", \"OP\": \"+\"}, {\"TEXT\": \"happy\"}]\n",
    "matcher.add(\"VERY_HAPPY\", [pattern])\n",
    "\n",
    "# Calling matcher on doc returns list of (match_id, start, end) tuples\n",
    "doc = nlp(\"I love cats and I'm very very happy\")\n",
    "matches = matcher(doc)"
   ]
  },
  {
   "cell_type": "code",
   "execution_count": 59,
   "metadata": {},
   "outputs": [
    {
     "data": {
      "text/plain": [
       "[(9137535031263442622, 1, 3),\n",
       " (2447047934687575526, 7, 9),\n",
       " (2447047934687575526, 6, 9)]"
      ]
     },
     "execution_count": 59,
     "metadata": {},
     "output_type": "execute_result"
    }
   ],
   "source": [
    "matches"
   ]
  },
  {
   "cell_type": "markdown",
   "metadata": {},
   "source": [
    "### Adding statistical prediction"
   ]
  },
  {
   "cell_type": "code",
   "execution_count": null,
   "metadata": {},
   "outputs": [],
   "source": [
    "matcher = Matcher(nlp.vocab)\n",
    "matcher.add(\"DOG\", [[{\"LOWER\": \"golden\"}, {\"LOWER\": \"retriever\"}]])\n",
    "doc = nlp(\"I have a Golden Retriever\")\n",
    "\n",
    "for match_id, start, end in matcher(doc):\n",
    "    span = doc[start:end]\n",
    "    print(\"Matched span:\", span.text)\n",
    "    # Get the span's root token and root head token\n",
    "    print(\"Root token:\", span.root.text)\n",
    "    print(\"Root head token:\", span.root.head.text)\n",
    "    # Get the previous token and its POS tag\n",
    "    print(\"Previous token:\", doc[start - 1].text, doc[start - 1].pos_)"
   ]
  },
  {
   "cell_type": "markdown",
   "metadata": {},
   "source": [
    "## Phrase matcher"
   ]
  },
  {
   "cell_type": "markdown",
   "metadata": {},
   "source": [
    "The phrase matcher is another helpful tool to find sequences of words in your data. It performs a keyword search on the document, but instead of only finding strings, it gives you direct access to the tokens in context. \n",
    "It takes Doc objects as patterns. It's also really fast. This makes it very useful for matching large dictionaries and word lists on large volumes of text."
   ]
  },
  {
   "cell_type": "code",
   "execution_count": 62,
   "metadata": {},
   "outputs": [
    {
     "name": "stdout",
     "output_type": "stream",
     "text": [
      "Matched span: Golden Retriever\n"
     ]
    }
   ],
   "source": [
    "from spacy.matcher import PhraseMatcher\n",
    "\n",
    "matcher = PhraseMatcher(nlp.vocab)\n",
    "\n",
    "pattern = nlp(\"Golden Retriever\")\n",
    "matcher.add(\"DOG\", [pattern])\n",
    "doc = nlp(\"I have a Golden Retriever\")\n",
    "\n",
    "# Iterate over the matches\n",
    "for match_id, start, end in matcher(doc):\n",
    "    # Get the matched span\n",
    "    span = doc[start:end]\n",
    "    print(\"Matched span:\", span.text)"
   ]
  },
  {
   "cell_type": "markdown",
   "metadata": {},
   "source": [
    "### Exercise"
   ]
  },
  {
   "cell_type": "code",
   "execution_count": 61,
   "metadata": {},
   "outputs": [
    {
     "name": "stdout",
     "output_type": "stream",
     "text": [
      "PATTERN1 Amazon Prime\n",
      "PATTERN2 ad-free viewing\n",
      "PATTERN1 Amazon Prime\n",
      "PATTERN2 ad-free viewing\n",
      "PATTERN2 ad-free viewing\n",
      "PATTERN2 ad-free viewing\n"
     ]
    }
   ],
   "source": [
    "nlp = spacy.load(\"en_core_web_sm\")\n",
    "doc = nlp(\n",
    "    \"Twitch Prime, the perks program for Amazon Prime members offering free \"\n",
    "    \"loot, games and other benefits, is ditching one of its best features: \"\n",
    "    \"ad-free viewing. According to an email sent out to Amazon Prime members \"\n",
    "    \"today, ad-free viewing will no longer be included as a part of Twitch \"\n",
    "    \"Prime for new members, beginning on September 14. However, members with \"\n",
    "    \"existing annual subscriptions will be able to continue to enjoy ad-free \"\n",
    "    \"viewing until their subscription comes up for renewal. Those with \"\n",
    "    \"monthly subscriptions will have access to ad-free viewing until October 15.\"\n",
    ")\n",
    "\n",
    "# Create the match patterns\n",
    "pattern1 = [{\"LOWER\": \"amazon\"}, {\"IS_TITLE\": True, \"POS\": \"PROPN\"}] # amazon needs to be lowercase\n",
    "pattern2 = [{\"LOWER\": \"ad\"}, {\"TEXT\": \"-\"}, {\"LOWER\": \"free\"}, {\"POS\": \"NOUN\"}] # separating \"ad\" and \"free\" in \"ad-free\"\n",
    "\n",
    "# Initialize the Matcher and add the patterns\n",
    "matcher = Matcher(nlp.vocab)\n",
    "matcher.add(\"PATTERN1\", [pattern1])\n",
    "matcher.add(\"PATTERN2\", [pattern2])\n",
    "\n",
    "# Iterate over the matches\n",
    "for match_id, start, end in matcher(doc):\n",
    "    # Print pattern string name and text of matched span\n",
    "    print(doc.vocab.strings[match_id], doc[start:end].text)"
   ]
  },
  {
   "cell_type": "markdown",
   "metadata": {},
   "source": [
    "### Summary of pipeline components\n",
    "\n",
    "* tagger (Part-of-speech tagger) --> `Token.tag`, `Token.pos`\n",
    "* parser (Dependency parser) --> `Token.dep`, `Token.head`, `Doc.sents`, `Doc.noun_chunks`\n",
    "* ner (Named entity recognizer) -->\t`Doc.ents`, `Token.ent_iob`, `Token.ent_type`\n",
    "* textcat (Text classifier) -->\t`Doc.cats`\n",
    "\n",
    "List of pipeline component names: `nlp.pipe_names` "
   ]
  },
  {
   "cell_type": "markdown",
   "metadata": {},
   "source": [
    "## Custom components\n",
    "\n",
    "\n",
    "A pipeline component is a function or callable that takes a doc, modifies it and returns it, so it can be processed by the next component in the pipeline.\n",
    "\n",
    "To tell spaCy where to find your custom component and how it should be called, you can decorate it using the @Language.component decorator. Just add it to the line right above the function definition.\n",
    "\n",
    "Once a component is registered, it can be added to the pipeline using the nlp.add_pipe method. The method takes at least one argument: the string name of the component."
   ]
  },
  {
   "cell_type": "code",
   "execution_count": 69,
   "metadata": {},
   "outputs": [
    {
     "ename": "ValueError",
     "evalue": "[E007] 'custom_component' already exists in pipeline. Existing names: ['tok2vec', 'tagger', 'parser', 'senter', 'attribute_ruler', 'lemmatizer', 'ner', 'custom_component']",
     "output_type": "error",
     "traceback": [
      "\u001b[1;31m---------------------------------------------------------------------------\u001b[0m",
      "\u001b[1;31mValueError\u001b[0m                                Traceback (most recent call last)",
      "\u001b[1;32m<ipython-input-69-31bad27a0848>\u001b[0m in \u001b[0;36m<module>\u001b[1;34m\u001b[0m\n\u001b[0;32m      6\u001b[0m     \u001b[1;32mreturn\u001b[0m \u001b[0mdoc\u001b[0m\u001b[1;33m\u001b[0m\u001b[1;33m\u001b[0m\u001b[0m\n\u001b[0;32m      7\u001b[0m \u001b[1;33m\u001b[0m\u001b[0m\n\u001b[1;32m----> 8\u001b[1;33m \u001b[0mnlp\u001b[0m\u001b[1;33m.\u001b[0m\u001b[0madd_pipe\u001b[0m\u001b[1;33m(\u001b[0m\u001b[1;34m\"custom_component\"\u001b[0m\u001b[1;33m)\u001b[0m\u001b[1;33m\u001b[0m\u001b[1;33m\u001b[0m\u001b[0m\n\u001b[0m",
      "\u001b[1;32mD:\\Progs\\Media\\Anaconda\\lib\\site-packages\\spacy\\language.py\u001b[0m in \u001b[0;36madd_pipe\u001b[1;34m(self, factory_name, name, before, after, first, last, source, config, raw_config, validate)\u001b[0m\n\u001b[0;32m    773\u001b[0m         \u001b[0mname\u001b[0m \u001b[1;33m=\u001b[0m \u001b[0mname\u001b[0m \u001b[1;32mif\u001b[0m \u001b[0mname\u001b[0m \u001b[1;32mis\u001b[0m \u001b[1;32mnot\u001b[0m \u001b[1;32mNone\u001b[0m \u001b[1;32melse\u001b[0m \u001b[0mfactory_name\u001b[0m\u001b[1;33m\u001b[0m\u001b[1;33m\u001b[0m\u001b[0m\n\u001b[0;32m    774\u001b[0m         \u001b[1;32mif\u001b[0m \u001b[0mname\u001b[0m \u001b[1;32min\u001b[0m \u001b[0mself\u001b[0m\u001b[1;33m.\u001b[0m\u001b[0mcomponent_names\u001b[0m\u001b[1;33m:\u001b[0m\u001b[1;33m\u001b[0m\u001b[1;33m\u001b[0m\u001b[0m\n\u001b[1;32m--> 775\u001b[1;33m             \u001b[1;32mraise\u001b[0m \u001b[0mValueError\u001b[0m\u001b[1;33m(\u001b[0m\u001b[0mErrors\u001b[0m\u001b[1;33m.\u001b[0m\u001b[0mE007\u001b[0m\u001b[1;33m.\u001b[0m\u001b[0mformat\u001b[0m\u001b[1;33m(\u001b[0m\u001b[0mname\u001b[0m\u001b[1;33m=\u001b[0m\u001b[0mname\u001b[0m\u001b[1;33m,\u001b[0m \u001b[0mopts\u001b[0m\u001b[1;33m=\u001b[0m\u001b[0mself\u001b[0m\u001b[1;33m.\u001b[0m\u001b[0mcomponent_names\u001b[0m\u001b[1;33m)\u001b[0m\u001b[1;33m)\u001b[0m\u001b[1;33m\u001b[0m\u001b[1;33m\u001b[0m\u001b[0m\n\u001b[0m\u001b[0;32m    776\u001b[0m         \u001b[1;31m# Overriding pipe name in the config is not supported and will be ignored.\u001b[0m\u001b[1;33m\u001b[0m\u001b[1;33m\u001b[0m\u001b[1;33m\u001b[0m\u001b[0m\n\u001b[0;32m    777\u001b[0m         \u001b[1;32mif\u001b[0m \u001b[1;34m\"name\"\u001b[0m \u001b[1;32min\u001b[0m \u001b[0mconfig\u001b[0m\u001b[1;33m:\u001b[0m\u001b[1;33m\u001b[0m\u001b[1;33m\u001b[0m\u001b[0m\n",
      "\u001b[1;31mValueError\u001b[0m: [E007] 'custom_component' already exists in pipeline. Existing names: ['tok2vec', 'tagger', 'parser', 'senter', 'attribute_ruler', 'lemmatizer', 'ner', 'custom_component']"
     ]
    }
   ],
   "source": [
    "from spacy import Language\n",
    "\n",
    "@Language.component(\"custom_component\")\n",
    "def custom_component_function(doc):\n",
    "    # Do something to the doc here\n",
    "    return doc\n",
    "\n",
    "nlp.add_pipe(\"custom_component\")\n",
    "\n",
    "# Print the pipeline component names\n",
    "print(\"Pipeline:\", nlp.pipe_names)"
   ]
  },
  {
   "cell_type": "code",
   "execution_count": 68,
   "metadata": {},
   "outputs": [],
   "source": [
    "# Examples\n",
    "# nlp.add_pipe(\"component\", last=True)\n",
    "# nlp.add_pipe(\"component\", first=True)\n",
    "# nlp.add_pipe(\"component\", before=\"ner\")\n",
    "# nlp.add_pipe(\"component\", after=\"tagger\")"
   ]
  },
  {
   "cell_type": "code",
   "execution_count": 70,
   "metadata": {},
   "outputs": [
    {
     "name": "stdout",
     "output_type": "stream",
     "text": [
      "['length_component', 'tok2vec', 'tagger', 'parser', 'attribute_ruler', 'lemmatizer', 'ner']\n",
      "This document is 5 tokens long.\n"
     ]
    }
   ],
   "source": [
    "import spacy\n",
    "from spacy.language import Language\n",
    "\n",
    "# Define the custom component\n",
    "@Language.component(\"length_component\")\n",
    "def length_component_function(doc):\n",
    "    # Get the doc's length\n",
    "    doc_length = len(doc)\n",
    "    print(f\"This document is {doc_length} tokens long.\")\n",
    "    # Return the doc\n",
    "    return doc\n",
    "\n",
    "\n",
    "# Load the small English pipeline\n",
    "nlp = spacy.load(\"en_core_web_sm\")\n",
    "\n",
    "# Add the component first in the pipeline and print the pipe names\n",
    "nlp.add_pipe(\"length_component\", first=True)\n",
    "print(nlp.pipe_names)\n",
    "\n",
    "# Process a text\n",
    "doc = nlp(\"This is a sentence.\")"
   ]
  },
  {
   "cell_type": "code",
   "execution_count": 79,
   "metadata": {},
   "outputs": [
    {
     "name": "stdout",
     "output_type": "stream",
     "text": [
      "animal_patterns: [Golden Retriever, cat, turtle, Rattus norvegicus]\n",
      "['tok2vec', 'tagger', 'parser', 'attribute_ruler', 'lemmatizer', 'ner', 'animal_component']\n",
      "['cat', 'Golden Retriever']\n"
     ]
    }
   ],
   "source": [
    "import spacy\n",
    "from spacy.language import Language\n",
    "from spacy.matcher import PhraseMatcher\n",
    "from spacy.tokens import Span\n",
    "\n",
    "nlp = spacy.load(\"en_core_web_sm\")\n",
    "animals = [\"Golden Retriever\", \"cat\", \"turtle\", \"Rattus norvegicus\"]\n",
    "animal_patterns = list(nlp.pipe(animals))\n",
    "print(\"animal_patterns:\", animal_patterns)\n",
    "matcher = PhraseMatcher(nlp.vocab)\n",
    "matcher.add(\"ANIMAL\", animal_patterns)\n",
    "\n",
    "# Define the custom component\n",
    "@Language.component(\"animal_component\")\n",
    "def animal_component_function(doc):\n",
    "    # Apply the matcher to the doc\n",
    "    matches = matcher(doc)\n",
    "    # Create a Span for each match and assign the label \"ANIMAL\"\n",
    "    spans = [Span(doc, start, end, label=\"ANIMAL\") for match_id, start, end in matches]\n",
    "    # Overwrite the doc.ents with the matched spans\n",
    "    doc.ents = spans\n",
    "    return doc\n",
    "\n",
    "# Add the component to the pipeline after the \"ner\" component\n",
    "nlp.add_pipe(\"animal_component\", after=\"ner\")\n",
    "print(nlp.pipe_names)\n",
    "\n",
    "# Process the text and print the text and label for the doc.ents\n",
    "doc = nlp(\"I have a cat and a Golden Retriever\")\n",
    "print([(ent.text) for ent in doc.ents])"
   ]
  },
  {
   "cell_type": "code",
   "execution_count": null,
   "metadata": {},
   "outputs": [],
   "source": []
  },
  {
   "cell_type": "code",
   "execution_count": null,
   "metadata": {},
   "outputs": [],
   "source": []
  },
  {
   "cell_type": "markdown",
   "metadata": {},
   "source": [
    "## Sample operations of TXT file\n",
    "\n",
    "Based on YouTube course: Natural Language Processing with spaCy & Python - Course for Beginners  (author: freeCodeCamp.org)\n",
    "\n",
    "Source of data: [Kaggle - Harry Potter Books](https://www.kaggle.com/datasets/balabaskar/harry-potter-books-corpora-part-1-7/versions/2?resource=download) (smaller sample of Book one)\n",
    "\n"
   ]
  },
  {
   "cell_type": "code",
   "execution_count": 138,
   "metadata": {},
   "outputs": [],
   "source": [
    "with open('data/Book1_s.txt', \"r\", encoding=\"utf8\") as f:\n",
    "    text = f.read()"
   ]
  },
  {
   "cell_type": "code",
   "execution_count": 139,
   "metadata": {},
   "outputs": [
    {
     "data": {
      "text/plain": [
       "'HE BOY WHO LIVED\\n\\n(short version of Book 1 file)\\n\\nMr. and Mrs. Dursley, of number four, Privet Drive, \\nwere proud to say that they were perfectly normal, \\nthank you very much. They were the last people you’d \\nexpect to be involved in anything strange or \\nmysterious, because they just didn’t hold with such \\nnonsense. \\n\\nMr. Dursley was the director of a firm called \\nGrunnings, which made drills. He was a big, beefy \\nman with hardly any neck, although he did have a \\nvery large mustache. Mrs. Dursley was thin and \\nblonde and had nearly twice the usual amount of \\nneck, which came in very useful as she spent so \\nmuch of her time craning over garden fences, spying \\non the neighbors. The Dursley s had a small son \\ncalled Dudley and in their opinion there was no finer \\nboy anywhere. \\n\\nThe Dursleys had everything they wanted, but they \\nalso had a secret, and their greatest fear was that \\nsomebody would discover it. They didn’t think they \\ncould bear it if anyone found out about the Potters. \\nMrs. Potter was Mrs. Dursley’s sister, but they hadn’t \\n\\nPage | 2 Harry Potter and the Philosophers Stone - J.K. Rowling \\n\\n\\n\\nmet for several years; in fact, Mrs. Dursley pretended \\nshe didn’t have a sister, because her sister and her \\ngood-for-nothing husband were as unDursleyish as it \\nwas possible to be. The Dursleys shuddered to think \\nwhat the neighbors would say if the Potters arrived in \\nthe street. The Dursleys knew that the Potters had a \\nsmall son, too, but they had never even seen him. \\n\\nThis boy was another good reason for keeping the \\nPotters away; they didn’t want Dudley mixing with a \\nchild like that. \\n\\nWhen Mr. and Mrs. Dursley woke up on the dull, gray \\nTuesday our story starts, there was nothing about the \\ncloudy sky outside to suggest that strange and \\nmysterious things would soon be happening all over \\nthe country. Mr. Dursley hummed as he picked out \\nhis most boring tie for work, and Mrs. Dursley \\ngossiped away happily as she wrestled a screaming \\nDudley into his high chair. \\n\\nNone of them noticed a large, tawny owl flutter past \\nthe window. \\n\\nAt half past eight, Mr. Dursley picked up his \\nbriefcase, pecked Mrs. Dursley on the cheek, and \\ntried to kiss Dudley good-bye but missed, because \\nDudley was now having a tantrum and throwing his \\ncereal at the walls. “Little tyke,” chortled Mr. Dursley \\nas he left the house. He got into his car and backed \\nout of number four’s drive. \\n\\nIt was on the corner of the street that he noticed the \\nfirst sign of something peculiar — a cat reading a \\nmap. For a second, Mr. Dursley didn’t realize what he \\nhad seen — then he jerked his head around to look \\nagain. There was a tabby cat standing on the corner \\nof Privet Drive, but there wasn’t a map in sight. What \\ncould he have been thinking of? It must have been a \\ntrick of the light. Mr. Dursley blinked and stared at \\nPage | 3 Harry Potter and the Philosophers Stone - J.K. Rowling \\n\\n\\n\\n\\nthe cat. It stared back. As Mr. Dursley drove around \\nthe corner and up the road, he watched the cat in his \\nmirror. It was now reading the sign that said Privet \\nDrive — no, looking at the sign; cats couldn’t read \\nmaps or signs. Mr. Dursley gave himself a little shake \\nand put the cat out of his mind. As he drove toward \\ntown he thought of nothing except a large order of \\ndrills he was hoping to get that day. \\n\\nBut on the edge of town, drills were driven out of his \\nmind by something else. As he sat in the usual \\nmorning traffic jam, he couldn’t help noticing that \\nthere seemed to be a lot of strangely dressed people \\nabout. People in cloaks. Mr. Dursley couldn’t bear \\npeople who dressed in funny clothes — the getups \\nyou saw on young people! He supposed this was some \\nstupid new fashion. He drummed his fingers on the \\nsteering wheel and his eyes fell on a huddle of these \\nweirdos standing quite close by. They were whispering \\nexcitedly together. Mr. Dursley was enraged to see \\nthat a couple of them weren’t young at all; why, that \\nman had to be older than he was, and wearing an \\nemerald-green cloak! The nerve of him! But then it \\nstruck Mr. Dursley that this was probably some silly \\nstunt — these people were obviously collecting for \\nsomething ... yes, that would be it. The traffic moved \\non and a few minutes later, Mr. Dursley arrived in the \\nGrunnings parking lot, his mind back on drills. \\n\\nMr. Dursley always sat with his back to the window in \\nhis office on the ninth floor. If he hadn’t, he might \\nhave found it harder to concentrate on drills that \\nmorning. He didn’t see the owls swooping past in \\nbroad daylight, though people down in the street did; \\nthey pointed and gazed open-mouthed as owl after \\nowl sped overhead. Most of them had never seen an \\nowl even at nighttime. Mr. Dursley, however, had a \\nperfectly normal, owl-free morning. He yelled at five \\ndifferent people. He made several important telephone \\nPage | 4 Harry Potter and the Philosophers Stone - J.K. Rowling \\n\\n\\n\\n\\ncalls and shouted a bit more. He was in a very good \\nmood until lunchtime, when he thought he’d stretch \\nhis legs and walk across the road to buy himself a \\nbun from the bakery. \\n\\nHe’d forgotten all about the people in cloaks until he \\npassed a group of them next to the baker’s. He eyed \\nthem angrily as he passed. He didn’t know why, but \\nthey made him uneasy. This bunch were whispering \\nexcitedly, too, and he couldn’t see a single collecting \\ntin. It was on his way back past them, clutching a \\nlarge doughnut in a bag, that he caught a few words \\nof what they were saying. \\n\\n“The Potters, that’s right, that’s what I heard — ” \\n\\n“ — yes, their son, Harry — ” \\n\\nMr. Dursley stopped dead. Fear flooded him. He \\nlooked back at the whisperers as if he wanted to say \\nsomething to them, but thought better of it. \\n\\nHe dashed back across the road, hurried up to his \\noffice, snapped at his secretary not to disturb him, \\nseized his telephone, and had almost finished dialing \\nhis home number when he changed his mind. He put \\nthe receiver back down and stroked his mustache, \\nthinking ... no, he was being stupid. Potter wasn’t \\nsuch an unusual name. He was sure there were lots \\nof people called Potter who had a son called Harry. \\nCome to think of it, he wasn’t even sure his nephew \\nwas called Harry. He’d never even seen the boy. It \\nmight have been Harvey. Or Harold. There was no \\npoint in worrying Mrs. Dursley; she always got so \\nupset at any mention of her sister. He didn’t blame \\nher — if he’d had a sister like that ... but all the \\nsame, those people in cloaks ... \\n\\n\\n\\nPage | 5 Harry Potter and the Philosophers Stone - J.K. Rowling \\n\\n\\n\\n\\nHe found it a lot harder to concentrate on drills that \\nafternoon and when he left the building at five o’clock, \\nhe was still so worried that he walked straight into \\nsomeone just outside the door. \\n\\n“Sorry,” he grunted, as the tiny old man stumbled \\nand almost fell. It was a few seconds before Mr. \\nDursley realized that the man was wearing a violet \\ncloak. He didn’t seem at all upset at being almost \\nknocked to the ground. On the contrary, his face split \\ninto a wide smile and he said in a squeaky voice that \\nmade passersby stare, “Don’t be sorry, my dear sir, \\nfor nothing could upset me today! Rejoice, for You- \\nKnow-Who has gone at last! Even Muggles like \\nyourself should be celebrating, this happy, happy \\nday!” \\n\\nAnd the old man hugged Mr. Dursley around the \\nmiddle and walked off. \\n\\nMr. Dursley stood rooted to the spot. He had been \\nhugged by a complete stranger. He also thought he \\nhad been called a Muggle, whatever that was. He was \\nrattled. He hurried to his car and set off for home, \\nhoping he was imagining things, which he had never \\nhoped before, because he didn’t approve of \\nimagination. \\n\\nAs he pulled into the driveway of number four, the \\nfirst thing he saw — and it didn’t improve his mood — \\nwas the tabby cat he’d spotted that morning. It was \\nnow sitting on his garden wall. He was sure it was the \\nsame one; it had the same markings around its eyes. \\n\\n“Shoo!” said Mr. Dursley loudly. \\n\\nThe cat didn’t move. It just gave him a stern look. \\n\\nWas this normal cat behavior? Mr. Dursley wondered. \\nTrying to pull himself together, he let himself into the \\n\\nPage | 6 Harry Potter and the Philosophers Stone - J.K. Rowling \\n\\n\\n\\n\\nhouse. He was still determined not to mention \\nanything to his wife. \\n\\nMrs. Dursley had had a nice, normal day. She told \\nhim over dinner all about Mrs. Next Door’s problems \\nwith her daughter and how Dudley had learned a new \\nword (“Won’t!”). Mr. Dursley tried to act normally. \\nWhen Dudley had been put to bed, he went into the \\nliving room in time to catch the last report on the \\nevening news: \\n\\n“And finally, bird-watchers everywhere have reported \\nthat the nation’s owls have been behaving very \\nunusually today. Although owls normally hunt at \\nnight and are hardly ever seen in daylight, there have \\nbeen hundreds of sightings of these birds flying in \\nevery direction since sunrise. Experts are unable to \\nexplain why the owls have suddenly changed their \\nsleeping pattern.” The newscaster allowed himself a \\ngrin. “Most mysterious. And now, over to Jim \\nMcGuffin with the weather. Going to be any more \\nshowers of owls tonight, Jim?” \\n\\n“Well, Ted,” said the weatherman, “I don’t know about \\nthat, but it’s not only the owls that have been acting \\noddly today. Viewers as far apart as Kent, Yorkshire, \\nand Dundee have been phoning in to tell me that \\ninstead of the rain I promised yesterday, they’ve had a \\ndownpour of shooting stars! Perhaps people have \\nbeen celebrating Bonfire Night early — it’s not until \\nnext week, folks! But I can promise a wet night \\ntonight.” \\n\\nMr. Dursley sat frozen in his armchair. Shooting stars \\nall over Britain? Owls flying by daylight? Mysterious \\npeople in cloaks all over the place? And a whisper, a \\nwhisper about the Potters . . . \\n\\n\\n\\nPage | 7 Harry Potter and the Philosophers Stone - J.K. Rowling \\n\\n\\n\\n\\nMrs. Dursley came into the living room carrying two \\ncups of tea. It was no good. He’d have to say \\nsomething to her. He cleared his throat nervously. “Er \\n— Petunia, dear — you haven’t heard from your sister \\nlately, have you?” \\n\\nAs he had expected, Mrs. Dursley looked shocked and \\nangry. After all, they normally pretended she didn’t \\nhave a sister. \\n\\n“No,” she said sharply. “Why?” \\n\\n“Funny stuff on the news,” Mr. Dursley mumbled. \\n“Owls . . . shooting stars . . . and there were a lot of \\nfunny-looking people in town today ...” \\n\\n“So?” snapped Mrs. Dursley. \\n\\n“Well, I just thought ... maybe ... it was something to \\ndo with ... you know ... her crowd.” \\n\\nMrs. Dursley sipped her tea through pursed lips. Mr. \\nDursley wondered whether he dared tell her he’d \\nheard the name “Potter.” He decided he didn’t dare. \\nInstead he said, as casually as he could, “Their son — \\nhe’d be about Dudley’s age now, wouldn’t he?” \\n\\n“I suppose so,” said Mrs. Dursley stiffly. \\n\\n“What’s his name again? Howard, isn’t it?” \\n\\n“Harry. Nasty, common name, if you ask me.” \\n\\n“Oh, yes,” said Mr. Dursley, his heart sinking \\nhorribly. “Yes, I quite agree.” \\n\\nHe didn’t say another word on the subject as they \\nwent upstairs to bed. While Mrs. Dursley was in the \\nbathroom, Mr. Dursley crept to the bedroom window \\n\\nPage | 8 Harry Potter and the Philosophers Stone - J.K. Rowling \\n\\n\\n\\n\\nand peered down into the front garden. The cat was \\nstill there. It was staring down Privet Drive as though \\nit were waiting for something. \\n\\nWas he imagining things? Could all this have \\nanything to do with the Potters? If it did ... if it got out \\nthat they were related to a pair of — well, he didn’t \\nthink he could bear it. \\n\\nThe Dursleys got into bed. Mrs. Dursley fell asleep \\nquickly but Mr. Dursley lay awake, turning it all over \\nin his mind. His last, comforting thought before he fell \\nasleep was that even if the Potters were involved, \\nthere was no reason for them to come near him and \\nMrs. Dursley. The Potters knew very well what he and \\nPetunia thought about them and their kind. ... He \\ncouldn’t see how he and Petunia could get mixed up \\nin anything that might be going on — he yawned and \\nturned over — it couldn’t affect them. ... \\n\\nHow very wrong he was. \\n\\nMr. Dursley might have been drifting into an uneasy \\nsleep, but the cat on the wall outside was showing no \\nsign of sleepiness. It was sitting as still as a statue, \\nits eyes fixed unblinkingly on the far corner of Privet \\nDrive. It didn’t so much as quiver when a car door \\nslammed on the next street, nor when two owls \\nswooped overhead. In fact, it was nearly midnight \\nbefore the cat moved at all. \\n\\nA man appeared on the corner the cat had been \\nwatching, appeared so suddenly and silently you’d \\nhave thought he’d just popped out of the ground. The \\ncat’s tail twitched and its eyes narrowed. \\n\\nNothing like this man had ever been seen on Privet \\nDrive. He was tall, thin, and very old, judging by the \\nsilver of his hair and beard, which were both long \\n\\nPage | 9 Harry Potter and the Philosophers Stone - J.K. Rowling \\n\\n\\n\\n\\nenough to tuck into his belt. He was wearing long \\nrobes, a purple cloak that swept the ground, and \\nhigh-heeled, buckled boots. His blue eyes were light, \\nbright, and sparkling behind half-moon spectacles \\nand his nose was very long and crooked, as though it \\nhad been broken at least twice. This man’s name was \\nAlbus Dumbledore. \\n\\nAlbus Dumbledore didn’t seem to realize that he had \\njust arrived in a street where everything from his \\nname to his boots was unwelcome. He was busy \\nrummaging in his cloak, looking for something. But \\nhe did seem to realize he was being watched, because \\nhe looked up suddenly at the cat, which was still \\nstaring at him from the other end of the street. For \\nsome reason, the sight of the cat seemed to amuse \\nhim. He chuckled and muttered, “I should have \\nknown.” \\n\\nHe found what he was looking for in his inside \\npocket. It seemed to be a silver cigarette lighter. He \\nflicked it open, held it up in the air, and clicked it. \\nThe nearest street lamp went out with a little pop. He \\nclicked it again — the next lamp flickered into \\ndarkness. Twelve times he clicked the Put-Outer, \\nuntil the only lights left on the whole street were two \\ntiny pinpricks in the distance, which were the eyes of \\nthe cat watching him. If anyone looked out of their \\nwindow now, even beady-eyed Mrs. Dursley, they \\nwouldn’t be able to see anything that was happening \\ndown on the pavement. Dumbledore slipped the Put- \\nOuter back inside his cloak and set off down the \\nstreet toward number four, where he sat down on the \\nwall next to the cat. He didn’t look at it, but after a \\nmoment he spoke to it. \\n\\n“Fancy seeing you here, Professor McGonagall.” \\n\\n\\n\\nPage | 10 Harry Potter and the Philosophers Stone - J.K. Rowling \\n\\n\\n\\n\\nHe turned to smile at the tabby, but it had gone. \\nInstead he was smiling at a rather severe-looking \\nwoman who was wearing square glasses exactly the \\nshape of the markings the cat had had around its \\neyes. She, too, was wearing a cloak, an emerald one. \\nHer black hair was drawn into a tight bun. She \\nlooked distinctly ruffled. \\n\\n“How did you know it was me?” she asked. \\n\\n“My dear Professor, I’ve never seen a cat sit so stiffly.” \\n\\n“You’d be stiff if you’d been sitting on a brick wall all \\nday,” said Professor McGonagall. \\n\\n“All day? When you could have been celebrating? I \\nmust have passed a dozen feasts and parties on my \\nway here.” \\n\\nProfessor McGonagall sniffed angrily. \\n\\n“Oh yes, everyone’s celebrating, all right,” she said \\nimpatiently. “You’d think they’d be a bit more careful, \\nbut no — even the Muggles have noticed something’s \\ngoing on. It was on their news.” She jerked her head \\nback at the Dursleys’ dark living-room window. “I \\nheard it. Flocks of owls ... shooting stars. ... Well, \\nthey’re not completely stupid. They were bound to \\nnotice something. Shooting stars down in Kent — I’ll \\nbet that was Dedalus Diggle. He never had much \\nsense.” \\n\\n“You can’t blame them,” said Dumbledore gently. \\n“We’ve had precious little to celebrate for eleven \\nyears.” \\n\\n“I know that,” said Professor McGonagall irritably. \\n\\n“But that’s no reason to lose our heads. People are \\nbeing downright careless, out on the streets in broad \\n\\nPage | 11 Harry Potter and the Philosophers Stone - J.K. Rowling \\n\\n\\n\\n\\ndaylight, not even dressed in Muggle clothes, \\nswapping rumors.” \\n\\nShe threw a sharp, sideways glance at Dumbledore \\nhere, as though hoping he was going to tell her \\nsomething, but he didn’t, so she went on. “A fine \\nthing it would be if, on the very day You-Know-Who \\nseems to have disappeared at last, the Muggles found \\nout about us all. I suppose he really has gone, \\nDumbledore?” \\n\\n“It certainly seems so,” said Dumbledore. “We have \\nmuch to be thankful for. Would you care for a lemon \\ndrop?” \\n\\n“A what?” \\n\\n“A lemon drop. They’re a kind of Muggle sweet I’m \\nrather fond of.” \\n\\n“No, thank you,” said Professor McGonagall coldly, as \\nthough she didn’t think this was the moment for \\nlemon drops. “As I say, even if You-Know-Who has \\ngone — ” \\n\\n“My dear Professor, surely a sensible person like \\nyourself can call him by his name? All this You- \\nKnow-Who’ nonsense — for eleven years I have been \\ntrying to persuade people to call him by his proper \\nname: Voldemort.” Professor McGonagall flinched, but \\nDumbledore, who was unsticking two lemon drops, \\nseemed not to notice. “It all gets so confusing if we \\nkeep saying You-Know-Who.’ I have never seen any \\nreason to be frightened of saying Voldemort’s name.” \\n\\n“I know you haven’t,” said Professor McGonagall, \\nsounding half exasperated, half admiring. “But you’re \\ndifferent. Everyone knows you’re the only one You- \\nKnow- oh, all right, Voldemort, was frightened of.” \\n\\nPage | 12 Harry Potter and the Philosophers Stone - J.K. Rowling \\n\\n\\n\\n\\n“You flatter me,” said Dumbledore calmly. “Voldemort \\nhad powers I will never have.” \\n\\n\\n\\n“Only because you’re too — well — noble to use \\nthem.” \\n\\n“It’s lucky it’s dark. I haven’t blushed so much since \\nMadam Pomfrey told me she liked my new earmuffs.” \\n\\nProfessor McGonagall shot a sharp look at \\nDumbledore and said, “The owls are nothing next to \\nthe rumors that are flying around. You know what \\neveryone’s saying? About why he’s disappeared? \\n\\nAbout what finally stopped him?” \\n\\nIt seemed that Professor McGonagall had reached the \\npoint she was most anxious to discuss, the real \\nreason she had been waiting on a cold, hard wall all \\nday, for neither as a cat nor as a woman had she \\nfixed Dumbledore with such a piercing stare as she \\ndid now. It was plain that whatever “everyone” was \\nsaying, she was not going to believe it until \\nDumbledore told her it was true. Dumbledore, \\nhowever, was choosing another lemon drop and did \\nnot answer. \\n\\n“What they’re saying,” she pressed on, “is that last \\nnight Voldemort turned up in Godric’s Hollow. He \\nwent to find the Potters. The rumor is that Lily and \\nJames Potter are — are — that they’re — dead.” \\n\\nDumbledore bowed his head. Professor McGonagall \\ngasped. \\n\\n“Lily and James ... I can’t believe it ... I didn’t want to \\nbelieve it ... Oh, Albus ...” \\n\\nDumbledore reached out and patted her on the \\nshoulder. “I know ... I know ...” he said heavily. \\n'"
      ]
     },
     "execution_count": 139,
     "metadata": {},
     "output_type": "execute_result"
    }
   ],
   "source": [
    "text"
   ]
  },
  {
   "cell_type": "code",
   "execution_count": 140,
   "metadata": {},
   "outputs": [],
   "source": [
    "doc = nlp(text)"
   ]
  },
  {
   "cell_type": "code",
   "execution_count": 141,
   "metadata": {},
   "outputs": [
    {
     "name": "stdout",
     "output_type": "stream",
     "text": [
      "19142\n",
      "4485\n"
     ]
    }
   ],
   "source": [
    "print(len(text))\n",
    "print(len(doc))"
   ]
  },
  {
   "cell_type": "markdown",
   "metadata": {},
   "source": [
    "Why are these numbers different?"
   ]
  },
  {
   "cell_type": "code",
   "execution_count": 142,
   "metadata": {},
   "outputs": [
    {
     "name": "stdout",
     "output_type": "stream",
     "text": [
      "H\n",
      "E\n",
      " \n",
      "B\n",
      "O\n",
      "Y\n",
      " \n",
      "W\n",
      "H\n",
      "O\n"
     ]
    }
   ],
   "source": [
    "for token in text[:10]:\n",
    "    print(token)\n",
    "\n",
    "# Tokens in doc object are letters."
   ]
  },
  {
   "cell_type": "code",
   "execution_count": 144,
   "metadata": {},
   "outputs": [
    {
     "name": "stdout",
     "output_type": "stream",
     "text": [
      "HE\n",
      "BOY\n",
      "WHO\n",
      "LIVED\n",
      "\n",
      "\n",
      "\n",
      "(\n",
      "short\n",
      "version\n",
      "of\n",
      "Book\n"
     ]
    }
   ],
   "source": [
    "for token in doc[:10]:\n",
    "    print(token)\n",
    "    \n",
    "# Tokens in doc object are words/punctuation marks!\n",
    "#"
   ]
  },
  {
   "cell_type": "markdown",
   "metadata": {},
   "source": [
    "Each word and punctuation mark is a separate token. What's improtant, spaCy is able to recognize dots as parts of words and not separate tokens (for example \"Mr.\" or other examples like \"U.S.A.\")."
   ]
  },
  {
   "cell_type": "code",
   "execution_count": 145,
   "metadata": {},
   "outputs": [
    {
     "name": "stdout",
     "output_type": "stream",
     "text": [
      "HE\n",
      "BOY\n",
      "WHO\n",
      "LIVED\n",
      "(short\n",
      "version\n",
      "of\n",
      "Book\n",
      "1\n",
      "file)\n"
     ]
    }
   ],
   "source": [
    "for token in text.split()[:10]:\n",
    "    print(token)"
   ]
  },
  {
   "cell_type": "markdown",
   "metadata": {},
   "source": [
    "In plain text, parentheses are concatenated with words.\n",
    "\n",
    "### Sentences:"
   ]
  },
  {
   "cell_type": "code",
   "execution_count": 146,
   "metadata": {},
   "outputs": [
    {
     "name": "stdout",
     "output_type": "stream",
     "text": [
      "HE BOY WHO LIVED\n",
      "\n",
      "(short version of Book 1 file)\n",
      "\n",
      "\n",
      "Mr. and Mrs. Dursley, of number four, Privet Drive, \n",
      "were proud to say that they were perfectly normal, \n",
      "thank you very much.\n",
      "They were the last people you’d \n",
      "expect to be involved in anything strange or \n",
      "mysterious, because they just didn’t hold with such \n",
      "nonsense. \n",
      "\n",
      "\n",
      "Mr. Dursley was the director of a firm called \n",
      "Grunnings, which made drills.\n",
      "He was a big, beefy \n",
      "man with hardly any neck, although he did have a \n",
      "very large mustache.\n",
      "Mrs. Dursley was thin and \n",
      "blonde and had nearly twice the usual amount of \n",
      "neck, which came in very useful as she spent so \n",
      "much of her time craning over garden fences, spying \n",
      "on the neighbors.\n",
      "The Dursley s had a small son \n",
      "called Dudley and in their opinion there was no finer \n",
      "boy anywhere. \n",
      "\n",
      "\n",
      "The Dursleys had everything they wanted, but they \n",
      "also had a secret, and their greatest fear was that \n",
      "somebody would discover it.\n",
      "They didn’t think they \n",
      "could bear it if anyone found out about the Potters. \n",
      "\n",
      "Mrs. Potter was Mrs. Dursley’s sister, but they hadn’t \n",
      "\n",
      "Page | 2 Harry Potter and the Philosophers Stone - J.K. Rowling \n",
      "\n",
      "\n",
      "\n",
      "met for several years; in fact, Mrs. Dursley pretended \n",
      "she didn’t have a sister, because her sister and her \n",
      "good-for-nothing husband were as unDursleyish as it \n",
      "was possible to be.\n",
      "The Dursleys shuddered to think \n",
      "what the neighbors would say if the Potters arrived in \n",
      "the street.\n",
      "The Dursleys knew that the Potters had a \n",
      "small son, too, but they had never even seen him. \n",
      "\n",
      "\n",
      "This boy was another good reason for keeping the \n",
      "Potters away; they didn’t want Dudley mixing with a \n",
      "child like that. \n",
      "\n",
      "\n",
      "When Mr. and Mrs. Dursley woke up on the dull, gray \n",
      "Tuesday our story starts, there was nothing about the \n",
      "cloudy sky outside to suggest that strange and \n",
      "mysterious things would soon be happening all over \n",
      "the country.\n",
      "Mr. Dursley hummed as he picked out \n",
      "his most boring tie for work, and Mrs. Dursley \n",
      "gossiped away happily as she wrestled a screaming \n",
      "Dudley into his high chair. \n",
      "\n",
      "\n",
      "None of them noticed a large, tawny owl flutter past \n",
      "the window. \n",
      "\n",
      "\n",
      "At half past eight, Mr. Dursley picked up his \n",
      "briefcase, pecked Mrs. Dursley on the cheek, and \n",
      "tried to kiss Dudley good-bye but missed, because \n",
      "Dudley was now having a tantrum and throwing his \n",
      "cereal at the walls.\n",
      "“Little tyke,” chortled Mr. Dursley \n",
      "as he left the house.\n",
      "He got into his car and backed \n",
      "out of number four’s drive. \n",
      "\n",
      "\n",
      "It was on the corner of the street that he noticed the \n",
      "first sign of something peculiar — a cat reading a \n",
      "map.\n",
      "For a second, Mr. Dursley didn’t realize what he \n",
      "had seen — then he jerked his head around to look \n",
      "again.\n",
      "There was a tabby cat standing on the corner \n",
      "of Privet Drive, but there wasn’t a map in sight.\n",
      "What \n",
      "could he have been thinking of?\n",
      "It must have been a \n",
      "trick of the light.\n",
      "Mr. Dursley blinked and stared at \n",
      "Page | 3 Harry Potter and the Philosophers Stone - J.K. Rowling \n",
      "\n",
      "\n",
      "\n",
      "\n",
      "the cat.\n",
      "It stared back.\n",
      "As Mr. Dursley drove around \n",
      "the corner and up the road, he watched the cat in his \n",
      "mirror.\n",
      "It was now reading the sign that said Privet \n",
      "Drive — no, looking at the sign; cats couldn’t read \n",
      "maps or signs.\n",
      "Mr. Dursley gave himself a little shake \n",
      "and put the cat out of his mind.\n",
      "As he drove toward \n",
      "town he thought of nothing except a large order of \n",
      "drills he was hoping to get that day. \n",
      "\n",
      "\n",
      "But on the edge of town, drills were driven out of his \n",
      "mind by something else.\n",
      "As he sat in the usual \n",
      "morning traffic jam, he couldn’t help noticing that \n",
      "there seemed to be a lot of strangely dressed people \n",
      "about.\n",
      "People in cloaks.\n",
      "Mr. Dursley couldn’t bear \n",
      "people who dressed in funny clothes — the getups \n",
      "you saw on young people!\n",
      "He supposed this was some \n",
      "stupid new fashion.\n",
      "He drummed his fingers on the \n",
      "steering wheel and his eyes fell on a huddle of these \n",
      "weirdos standing quite close by.\n",
      "They were whispering \n",
      "excitedly together.\n",
      "Mr. Dursley was enraged to see \n",
      "that a couple of them weren’t young at all; why, that \n",
      "man had to be older than he was, and wearing an \n",
      "emerald-green cloak!\n",
      "The nerve of him!\n",
      "But then it \n",
      "struck Mr. Dursley that this was probably some silly \n",
      "stunt — these people were obviously collecting for \n",
      "something ...\n",
      "yes, that would be it.\n",
      "The traffic moved \n",
      "on and a few minutes later, Mr. Dursley arrived in the \n",
      "Grunnings parking lot, his mind back on drills. \n",
      "\n",
      "\n",
      "Mr. Dursley always sat with his back to the window in \n",
      "his office on the ninth floor.\n",
      "If he hadn’t, he might \n",
      "have found it harder to concentrate on drills that \n",
      "morning.\n",
      "He didn’t see the owls swooping past in \n",
      "broad daylight, though people down in the street did; \n",
      "they pointed and gazed open-mouthed as owl after \n",
      "owl sped overhead.\n",
      "Most of them had never seen an \n",
      "owl even at nighttime.\n",
      "Mr. Dursley, however, had a \n",
      "perfectly normal, owl-free morning.\n",
      "He yelled at five \n",
      "different people.\n",
      "He made several important telephone \n",
      "Page | 4 Harry Potter and the Philosophers Stone - J.K. Rowling \n",
      "\n",
      "\n",
      "\n",
      "\n",
      "calls and shouted a bit more.\n",
      "He was in a very good \n",
      "mood until lunchtime, when he thought he’d stretch \n",
      "his legs and walk across the road to buy himself a \n",
      "bun from the bakery. \n",
      "\n",
      "\n",
      "He’d forgotten all about the people in cloaks until he \n",
      "passed a group of them next to the baker’s.\n",
      "He eyed \n",
      "them angrily as he passed.\n",
      "He didn’t know why, but \n",
      "they made him uneasy.\n",
      "This bunch were whispering \n",
      "excitedly, too, and he couldn’t see a single collecting \n",
      "tin.\n",
      "It was on his way back past them, clutching a \n",
      "large doughnut in a bag, that he caught a few words \n",
      "of what they were saying. \n",
      "\n",
      "\n",
      "“The Potters, that’s right, that’s what I heard — ” \n",
      "\n",
      "“ — yes, their son, Harry — ” \n",
      "\n",
      "Mr. Dursley stopped dead.\n",
      "Fear flooded him.\n",
      "He \n",
      "looked back at the whisperers as if he wanted to say \n",
      "something to them, but thought better of it. \n",
      "\n",
      "\n",
      "He dashed back across the road, hurried up to his \n",
      "office, snapped at his secretary not to disturb him, \n",
      "seized his telephone, and had almost finished dialing \n",
      "his home number when he changed his mind.\n",
      "He put \n",
      "the receiver back down and stroked his mustache, \n",
      "thinking ...\n",
      "no, he was being stupid.\n",
      "Potter wasn’t \n",
      "such an unusual name.\n",
      "He was sure there were lots \n",
      "of people called Potter who had a son called Harry. \n",
      "\n",
      "Come to think of it, he wasn’t even sure his nephew \n",
      "was called Harry.\n",
      "He’d never even seen the boy.\n",
      "It \n",
      "might have been Harvey.\n",
      "Or Harold.\n",
      "There was no \n",
      "point in worrying Mrs. Dursley; she always got so \n",
      "upset at any mention of her sister.\n",
      "He didn’t blame \n",
      "her — if he’d had a sister like that ...\n",
      "but all the \n",
      "same, those people in cloaks ... \n",
      "\n",
      "\n",
      "\n",
      "\n",
      "Page | 5 Harry Potter and the Philosophers Stone - J.K. Rowling \n",
      "\n",
      "\n",
      "\n",
      "\n",
      "\n",
      "He found it a lot harder to concentrate on drills that \n",
      "afternoon and when he left the building at five o’clock, \n",
      "he was still so worried that he walked straight into \n",
      "someone just outside the door. \n",
      "\n",
      "\n",
      "“Sorry,” he grunted, as the tiny old man stumbled \n",
      "and almost fell.\n",
      "It was a few seconds before Mr. \n",
      "Dursley realized that the man was wearing a violet \n",
      "cloak.\n",
      "He didn’t seem at all upset at being almost \n",
      "knocked to the ground.\n",
      "On the contrary, his face split \n",
      "into a wide smile and he said in a squeaky voice that \n",
      "made passersby stare, “Don’t be sorry, my dear sir, \n",
      "for nothing could upset me today!\n",
      "Rejoice, for You- \n",
      "Know-Who has gone at last!\n",
      "Even Muggles like \n",
      "yourself should be celebrating, this happy, happy \n",
      "day!” \n",
      "\n",
      "\n",
      "And the old man hugged Mr. Dursley around the \n",
      "middle and walked off. \n",
      "\n",
      "\n",
      "Mr. Dursley stood rooted to the spot.\n",
      "He had been \n",
      "hugged by a complete stranger.\n",
      "He also thought he \n",
      "had been called a Muggle, whatever that was.\n",
      "He was \n",
      "rattled.\n",
      "He hurried to his car and set off for home, \n",
      "hoping he was imagining things, which he had never \n",
      "hoped before, because he didn’t approve of \n",
      "imagination. \n",
      "\n",
      "\n",
      "As he pulled into the driveway of number four, the \n",
      "first thing he saw — and it didn’t improve his mood — \n",
      "was the tabby cat he’d spotted that morning.\n",
      "It was \n",
      "now sitting on his garden wall.\n",
      "He was sure it was the \n",
      "same one; it had the same markings around its eyes. \n",
      "\n",
      "\n",
      "“Shoo!” said Mr. Dursley loudly. \n",
      "\n",
      "\n",
      "The cat didn’t move.\n",
      "It just gave him a stern look. \n",
      "\n",
      "\n",
      "Was this normal cat behavior?\n",
      "Mr. Dursley wondered. \n",
      "\n",
      "Trying to pull himself together, he let himself into the \n",
      "\n",
      "Page | 6 Harry Potter and the Philosophers Stone - J.K. Rowling \n",
      "\n",
      "\n",
      "\n",
      "\n",
      "house.\n",
      "He was still determined not to mention \n",
      "anything to his wife. \n",
      "\n",
      "\n",
      "Mrs. Dursley had had a nice, normal day.\n",
      "She told \n",
      "him over dinner all about Mrs. Next Door’s problems \n",
      "with her daughter and how Dudley had learned a new \n",
      "word (“Won’t!”).\n",
      "Mr. Dursley tried to act normally. \n",
      "\n",
      "When Dudley had been put to bed, he went into the \n",
      "living room in time to catch the last report on the \n",
      "evening news: \n",
      "\n",
      "\n",
      "“And finally, bird-watchers everywhere have reported \n",
      "that the nation’s owls have been behaving very \n",
      "unusually today.\n",
      "Although owls normally hunt at \n",
      "night and are hardly ever seen in daylight, there have \n",
      "been hundreds of sightings of these birds flying in \n",
      "every direction since sunrise.\n",
      "Experts are unable to \n",
      "explain why the owls have suddenly changed their \n",
      "sleeping pattern.”\n",
      "The newscaster allowed himself a \n",
      "grin.\n",
      "“Most mysterious.\n",
      "And now, over to Jim \n",
      "McGuffin with the weather.\n",
      "Going to be any more \n",
      "showers of owls tonight, Jim?” \n",
      "\n",
      "\n",
      "“Well, Ted,” said the weatherman, “I don’t know about \n",
      "that, but it’s not only the owls that have been acting \n",
      "oddly today.\n",
      "Viewers as far apart as Kent, Yorkshire, \n",
      "and Dundee have been phoning in to tell me that \n",
      "instead of the rain I promised yesterday, they’ve had a \n",
      "downpour of shooting stars!\n",
      "Perhaps people have \n",
      "been celebrating Bonfire Night early — it’s not until \n",
      "next week, folks!\n",
      "But I can promise a wet night \n",
      "tonight.” \n",
      "\n",
      "\n",
      "Mr. Dursley sat frozen in his armchair.\n",
      "Shooting stars \n",
      "all over Britain?\n",
      "Owls flying by daylight?\n",
      "Mysterious \n",
      "people in cloaks all over the place?\n",
      "And a whisper, a \n",
      "whisper about the Potters . . . \n",
      "\n",
      "\n",
      "\n",
      "\n",
      "Page | 7 Harry Potter and the Philosophers Stone - J.K. Rowling \n",
      "\n",
      "\n",
      "\n",
      "\n",
      "Mrs. Dursley came into the living room carrying two \n",
      "cups of tea.\n",
      "It was no good.\n",
      "He’d have to say \n",
      "something to her.\n",
      "He cleared his throat nervously.\n",
      "“Er \n",
      "— Petunia, dear — you haven’t heard from your sister \n",
      "lately, have you?” \n",
      "\n",
      "\n",
      "As he had expected, Mrs. Dursley looked shocked and \n",
      "angry.\n",
      "After all, they normally pretended she didn’t \n",
      "have a sister. \n",
      "\n",
      "\n",
      "“No,” she said sharply.\n",
      "“Why?” \n",
      "\n",
      "“Funny stuff on the news,” Mr. Dursley mumbled. \n",
      "\n",
      "“Owls . . .\n",
      "shooting stars . . .\n",
      "and there were a lot of \n",
      "funny-looking people in town today ...” \n",
      "\n",
      "\n",
      "“So?” snapped Mrs. Dursley. \n",
      "\n",
      "\n",
      "“Well, I just thought ...\n",
      "maybe ... it was something to \n",
      "do with ...\n",
      "you know ...\n",
      "her crowd.” \n",
      "\n",
      "\n",
      "Mrs. Dursley sipped her tea through pursed lips.\n",
      "Mr. \n",
      "Dursley wondered whether he dared tell her he’d \n",
      "heard the name “Potter.”\n",
      "He decided he didn’t dare. \n",
      "\n",
      "Instead he said, as casually as he could, “Their son — \n",
      "he’d be about Dudley’s age now, wouldn’t he?” \n",
      "\n",
      "\n",
      "“I suppose so,” said Mrs. Dursley stiffly. \n",
      "\n",
      "\n",
      "“What’s his name again?\n",
      "Howard, isn’t it?” \n",
      "\n",
      "“Harry.\n",
      "Nasty, common name, if you ask me.” \n",
      "\n",
      "\n",
      "“Oh, yes,” said Mr. Dursley, his heart sinking \n",
      "horribly.\n",
      "“Yes, I quite agree.” \n",
      "\n",
      "\n",
      "He didn’t say another word on the subject as they \n",
      "went upstairs to bed.\n",
      "While Mrs. Dursley was in the \n",
      "bathroom, Mr. Dursley crept to the bedroom window \n",
      "\n",
      "Page | 8 Harry Potter and the Philosophers Stone - J.K. Rowling \n",
      "\n",
      "\n",
      "\n",
      "\n",
      "and peered down into the front garden.\n",
      "The cat was \n",
      "still there.\n",
      "It was staring down Privet Drive as though \n",
      "it were waiting for something. \n",
      "\n",
      "\n",
      "Was he imagining things?\n",
      "Could all this have \n",
      "anything to do with the Potters?\n",
      "If it did ... if it got out \n",
      "that they were related to a pair of — well, he didn’t \n",
      "think he could bear it. \n",
      "\n",
      "\n",
      "The Dursleys got into bed.\n",
      "Mrs. Dursley fell asleep \n",
      "quickly but Mr. Dursley lay awake, turning it all over \n",
      "in his mind.\n",
      "His last, comforting thought before he fell \n",
      "asleep was that even if the Potters were involved, \n",
      "there was no reason for them to come near him and \n",
      "Mrs. Dursley.\n",
      "The Potters knew very well what he and \n",
      "Petunia thought about them and their kind. ...\n",
      "He \n",
      "couldn’t see how he and Petunia could get mixed up \n",
      "in anything that might be going on — he yawned and \n",
      "turned over — it couldn’t affect them. ... \n",
      "\n",
      "\n",
      "How very wrong he was. \n",
      "\n",
      "\n",
      "Mr. Dursley might have been drifting into an uneasy \n",
      "sleep, but the cat on the wall outside was showing no \n",
      "sign of sleepiness.\n",
      "It was sitting as still as a statue, \n",
      "its eyes fixed unblinkingly on the far corner of Privet \n",
      "Drive.\n",
      "It didn’t so much as quiver when a car door \n",
      "slammed on the next street, nor when two owls \n",
      "swooped overhead.\n",
      "In fact, it was nearly midnight \n",
      "before the cat moved at all. \n",
      "\n",
      "\n",
      "A man appeared on the corner the cat had been \n",
      "watching, appeared so suddenly and silently you’d \n",
      "have thought he’d just popped out of the ground.\n",
      "The \n",
      "cat’s tail twitched and its eyes narrowed. \n",
      "\n",
      "\n",
      "Nothing like this man had ever been seen on Privet \n",
      "Drive.\n",
      "He was tall, thin, and very old, judging by the \n",
      "silver of his hair and beard, which were both long \n",
      "\n",
      "Page | 9 Harry Potter and the Philosophers Stone - J.K. Rowling \n",
      "\n",
      "\n",
      "\n",
      "\n",
      "enough to tuck into his belt.\n",
      "He was wearing long \n",
      "robes, a purple cloak that swept the ground, and \n",
      "high-heeled, buckled boots.\n",
      "His blue eyes were light, \n",
      "bright, and sparkling behind half-moon spectacles \n",
      "and his nose was very long and crooked, as though it \n",
      "had been broken at least twice.\n",
      "This man’s name was \n",
      "Albus Dumbledore. \n",
      "\n",
      "\n",
      "Albus Dumbledore didn’t seem to realize that he had \n",
      "just arrived in a street where everything from his \n",
      "name to his boots was unwelcome.\n",
      "He was busy \n",
      "rummaging in his cloak, looking for something.\n",
      "But \n",
      "he did seem to realize he was being watched, because \n",
      "he looked up suddenly at the cat, which was still \n",
      "staring at him from the other end of the street.\n",
      "For \n",
      "some reason, the sight of the cat seemed to amuse \n",
      "him.\n",
      "He chuckled and muttered, “I should have \n",
      "known.” \n",
      "\n",
      "\n",
      "He found what he was looking for in his inside \n",
      "pocket.\n",
      "It seemed to be a silver cigarette lighter.\n",
      "He \n",
      "flicked it open, held it up in the air, and clicked it. \n",
      "\n",
      "The nearest street lamp went out with a little pop.\n",
      "He \n",
      "clicked it again — the next lamp flickered into \n",
      "darkness.\n",
      "Twelve times he clicked the Put-Outer, \n",
      "until the only lights left on the whole street were two \n",
      "tiny pinpricks in the distance, which were the eyes of \n",
      "the cat watching him.\n",
      "If anyone looked out of their \n",
      "window now, even beady-eyed Mrs. Dursley, they \n",
      "wouldn’t be able to see anything that was happening \n",
      "down on the pavement.\n",
      "Dumbledore slipped the Put- \n",
      "Outer back inside his cloak and set off down the \n",
      "street toward number four, where he sat down on the \n",
      "wall next to the cat.\n",
      "He didn’t look at it, but after a \n",
      "moment he spoke to it. \n",
      "\n",
      "\n",
      "“Fancy seeing you here, Professor McGonagall.” \n",
      "\n",
      "\n",
      "\n",
      "Page | 10 Harry Potter and the Philosophers Stone - J.K. Rowling \n",
      "\n",
      "\n",
      "\n",
      "\n",
      "He turned to smile at the tabby, but it had gone. \n",
      "\n",
      "Instead he was smiling at a rather severe-looking \n",
      "woman who was wearing square glasses exactly the \n",
      "shape of the markings the cat had had around its \n",
      "eyes.\n",
      "She, too, was wearing a cloak, an emerald one. \n",
      "\n",
      "Her black hair was drawn into a tight bun.\n",
      "She \n",
      "looked distinctly ruffled. \n",
      "\n",
      "\n",
      "“How did you know it was me?”\n",
      "she asked. \n",
      "\n",
      "\n",
      "“My dear Professor, I’ve never seen a cat sit so stiffly.” \n",
      "\n",
      "\n",
      "“You’d be stiff if you’d been sitting on a brick wall all \n",
      "day,” said Professor McGonagall. \n",
      "\n",
      "\n",
      "“All day?\n",
      "When you could have been celebrating?\n",
      "I \n",
      "must have passed a dozen feasts and parties on my \n",
      "way here.” \n",
      "\n",
      "\n",
      "Professor McGonagall sniffed angrily. \n",
      "\n",
      "\n",
      "“Oh yes, everyone’s celebrating, all right,” she said \n",
      "impatiently.\n",
      "“You’d think they’d be a bit more careful, \n",
      "but no — even the Muggles have noticed something’s \n",
      "going on.\n",
      "It was on their news.”\n",
      "She jerked her head \n",
      "back at the Dursleys’ dark living-room window.\n",
      "“I \n",
      "heard it.\n",
      "Flocks of owls ...\n",
      "shooting stars.\n",
      "...\n",
      "Well, \n",
      "they’re not completely stupid.\n",
      "They were bound to \n",
      "notice something.\n",
      "Shooting stars down in Kent — I’ll \n",
      "bet that was Dedalus Diggle.\n",
      "He never had much \n",
      "sense.” \n",
      "\n",
      "\n",
      "“You can’t blame them,” said Dumbledore gently. \n",
      "\n",
      "“We’ve had precious little to celebrate for eleven \n",
      "years.” \n",
      "\n",
      "\n",
      "“I know that,” said Professor McGonagall irritably. \n",
      "\n",
      "\n",
      "“But that’s no reason to lose our heads.\n",
      "People are \n",
      "being downright careless, out on the streets in broad \n",
      "\n",
      "Page | 11\n",
      "Harry Potter and the Philosophers Stone - J.K. Rowling \n",
      "\n",
      "\n",
      "\n",
      "\n",
      "daylight, not even dressed in Muggle clothes, \n",
      "swapping rumors.” \n",
      "\n",
      "\n",
      "She threw a sharp, sideways glance at Dumbledore \n",
      "here, as though hoping he was going to tell her \n",
      "something, but he didn’t, so she went on.\n",
      "“A fine \n",
      "thing it would be if, on the very day You-Know-Who \n",
      "seems to have disappeared at last, the Muggles found \n",
      "out about us all.\n",
      "I suppose he really has gone, \n",
      "Dumbledore?” \n",
      "\n",
      "\n",
      "“It certainly seems so,” said Dumbledore.\n",
      "“We have \n",
      "much to be thankful for.\n",
      "Would you care for a lemon \n",
      "drop?” \n",
      "\n",
      "\n",
      "“A what?” \n",
      "\n",
      "“A lemon drop.\n",
      "They’re a kind of Muggle sweet I’m \n",
      "rather fond of.” \n",
      "\n",
      "\n",
      "“No, thank you,” said Professor McGonagall coldly, as \n",
      "though she didn’t think this was the moment for \n",
      "lemon drops.\n",
      "“As I say, even if You-Know-Who has \n",
      "gone — ” \n",
      "\n",
      "“My dear Professor, surely a sensible person like \n",
      "yourself can call him by his name?\n",
      "All this You- \n",
      "Know-Who’ nonsense — for eleven years I have been \n",
      "trying to persuade people to call him by his proper \n",
      "name: Voldemort.”\n",
      "Professor McGonagall flinched, but \n",
      "Dumbledore, who was unsticking two lemon drops, \n",
      "seemed not to notice.\n",
      "“It all gets so confusing if we \n",
      "keep saying You-Know-Who.’\n",
      "I have never seen any \n",
      "reason to be frightened of saying Voldemort’s name.” \n",
      "\n",
      "\n",
      "“I know you haven’t,” said Professor McGonagall, \n",
      "sounding half exasperated, half admiring.\n",
      "“But you’re \n",
      "different.\n",
      "Everyone knows you’re the only one You- \n",
      "\n",
      "Know-\n",
      "oh, all right, Voldemort, was frightened of.” \n",
      "\n",
      "\n",
      "Page | 12 Harry Potter and the Philosophers Stone - J.K. Rowling \n",
      "\n",
      "\n",
      "\n",
      "\n",
      "“You flatter me,” said Dumbledore calmly.\n",
      "“Voldemort \n",
      "had powers I will never have.” \n",
      "\n",
      "\n",
      "\n",
      "\n",
      "“Only because you’re too — well — noble to use \n",
      "them.” \n",
      "\n",
      "\n",
      "“It’s lucky it’s dark.\n",
      "I haven’t blushed so much since \n",
      "Madam Pomfrey told me she liked my new earmuffs.” \n",
      "\n",
      "\n",
      "Professor McGonagall shot a sharp look at \n",
      "Dumbledore and said, “The owls are nothing next to \n",
      "the rumors that are flying around.\n",
      "You know what \n",
      "everyone’s saying?\n",
      "About why he’s disappeared? \n",
      "\n",
      "\n",
      "About what finally stopped him?” \n",
      "\n",
      "\n",
      "It seemed that Professor McGonagall had reached the \n",
      "point she was most anxious to discuss, the real \n",
      "reason she had been waiting on a cold, hard wall all \n",
      "day, for neither as a cat nor as a woman had she \n",
      "fixed Dumbledore with such a piercing stare as she \n",
      "did now.\n",
      "It was plain that whatever “everyone” was \n",
      "saying, she was not going to believe it until \n",
      "Dumbledore told her it was true.\n",
      "Dumbledore, \n",
      "however, was choosing another lemon drop and did \n",
      "not answer. \n",
      "\n",
      "\n",
      "“What they’re saying,” she pressed on, “is that last \n",
      "night Voldemort turned up in Godric’s Hollow.\n",
      "He \n",
      "went to find the Potters.\n",
      "The rumor is that Lily and \n",
      "James Potter are — are — that they’re — dead.” \n",
      "\n",
      "\n",
      "Dumbledore bowed his head.\n",
      "Professor McGonagall \n",
      "gasped. \n",
      "\n",
      "\n",
      "“Lily and James ...\n",
      "I can’t believe it ...\n",
      "I didn’t want to \n",
      "believe it ...\n",
      "Oh, Albus ...” \n",
      "\n",
      "\n",
      "Dumbledore reached out and patted her on the \n",
      "shoulder.\n",
      "“I know ...\n",
      "I know ...”\n",
      "he said heavily. \n",
      "\n"
     ]
    }
   ],
   "source": [
    "for sent in doc.sents:\n",
    "    print(sent)"
   ]
  },
  {
   "cell_type": "markdown",
   "metadata": {},
   "source": [
    "The text has been tokenize and we printed sentences of this document.\n",
    "\n",
    "Let's exatract a sentence. We cannot simply type `doc.sents[4]`, we need to first make a list!"
   ]
  },
  {
   "cell_type": "code",
   "execution_count": 155,
   "metadata": {},
   "outputs": [],
   "source": [
    "sentence1 = list(doc.sents)[3]"
   ]
  },
  {
   "cell_type": "code",
   "execution_count": 156,
   "metadata": {},
   "outputs": [
    {
     "data": {
      "text/plain": [
       "Mr. Dursley was the director of a firm called \n",
       "Grunnings, which made drills."
      ]
     },
     "execution_count": 156,
     "metadata": {},
     "output_type": "execute_result"
    }
   ],
   "source": [
    "sentence1"
   ]
  },
  {
   "cell_type": "markdown",
   "metadata": {},
   "source": [
    "### Setting custom attributes"
   ]
  },
  {
   "cell_type": "code",
   "execution_count": 159,
   "metadata": {},
   "outputs": [
    {
     "ename": "AttributeError",
     "evalue": "'str' object has no attribute '_'",
     "output_type": "error",
     "traceback": [
      "\u001b[1;31m---------------------------------------------------------------------------\u001b[0m",
      "\u001b[1;31mAttributeError\u001b[0m                            Traceback (most recent call last)",
      "\u001b[1;32m<ipython-input-159-7ad2b4bd6bf9>\u001b[0m in \u001b[0;36m<module>\u001b[1;34m\u001b[0m\n\u001b[0;32m      1\u001b[0m \u001b[0mdoc\u001b[0m\u001b[1;33m.\u001b[0m\u001b[0m_\u001b[0m\u001b[1;33m.\u001b[0m\u001b[0mtitle\u001b[0m \u001b[1;33m=\u001b[0m \u001b[1;34m\"My document\"\u001b[0m\u001b[1;33m\u001b[0m\u001b[1;33m\u001b[0m\u001b[0m\n\u001b[1;32m----> 2\u001b[1;33m \u001b[0mtoken\u001b[0m\u001b[1;33m.\u001b[0m\u001b[0m_\u001b[0m\u001b[1;33m.\u001b[0m\u001b[0mis_color\u001b[0m \u001b[1;33m=\u001b[0m \u001b[1;32mTrue\u001b[0m\u001b[1;33m\u001b[0m\u001b[1;33m\u001b[0m\u001b[0m\n\u001b[0m\u001b[0;32m      3\u001b[0m \u001b[0mspan\u001b[0m\u001b[1;33m.\u001b[0m\u001b[0m_\u001b[0m\u001b[1;33m.\u001b[0m\u001b[0mhas_color\u001b[0m \u001b[1;33m=\u001b[0m \u001b[1;32mFalse\u001b[0m\u001b[1;33m\u001b[0m\u001b[1;33m\u001b[0m\u001b[0m\n",
      "\u001b[1;31mAttributeError\u001b[0m: 'str' object has no attribute '_'"
     ]
    }
   ],
   "source": [
    "doc._.title = \"My document\"\n",
    "token._.is_color = True\n",
    "span._.has_color = False"
   ]
  },
  {
   "cell_type": "code",
   "execution_count": 160,
   "metadata": {},
   "outputs": [
    {
     "ename": "ValueError",
     "evalue": "[E090] Extension 'title' already exists on Doc. To overwrite the existing extension, set `force=True` on `Doc.set_extension`.",
     "output_type": "error",
     "traceback": [
      "\u001b[1;31m---------------------------------------------------------------------------\u001b[0m",
      "\u001b[1;31mValueError\u001b[0m                                Traceback (most recent call last)",
      "\u001b[1;32m<ipython-input-160-1a844ef17b67>\u001b[0m in \u001b[0;36m<module>\u001b[1;34m\u001b[0m\n\u001b[0;32m      2\u001b[0m \u001b[1;33m\u001b[0m\u001b[0m\n\u001b[0;32m      3\u001b[0m \u001b[1;31m# Set extensions on the Doc, Token and Span\u001b[0m\u001b[1;33m\u001b[0m\u001b[1;33m\u001b[0m\u001b[1;33m\u001b[0m\u001b[0m\n\u001b[1;32m----> 4\u001b[1;33m \u001b[0mDoc\u001b[0m\u001b[1;33m.\u001b[0m\u001b[0mset_extension\u001b[0m\u001b[1;33m(\u001b[0m\u001b[1;34m\"title\"\u001b[0m\u001b[1;33m,\u001b[0m \u001b[0mdefault\u001b[0m\u001b[1;33m=\u001b[0m\u001b[1;32mNone\u001b[0m\u001b[1;33m)\u001b[0m\u001b[1;33m\u001b[0m\u001b[1;33m\u001b[0m\u001b[0m\n\u001b[0m\u001b[0;32m      5\u001b[0m \u001b[0mToken\u001b[0m\u001b[1;33m.\u001b[0m\u001b[0mset_extension\u001b[0m\u001b[1;33m(\u001b[0m\u001b[1;34m\"is_color\"\u001b[0m\u001b[1;33m,\u001b[0m \u001b[0mdefault\u001b[0m\u001b[1;33m=\u001b[0m\u001b[1;32mFalse\u001b[0m\u001b[1;33m)\u001b[0m\u001b[1;33m\u001b[0m\u001b[1;33m\u001b[0m\u001b[0m\n\u001b[0;32m      6\u001b[0m \u001b[0mSpan\u001b[0m\u001b[1;33m.\u001b[0m\u001b[0mset_extension\u001b[0m\u001b[1;33m(\u001b[0m\u001b[1;34m\"has_color\"\u001b[0m\u001b[1;33m,\u001b[0m \u001b[0mdefault\u001b[0m\u001b[1;33m=\u001b[0m\u001b[1;32mFalse\u001b[0m\u001b[1;33m)\u001b[0m\u001b[1;33m\u001b[0m\u001b[1;33m\u001b[0m\u001b[0m\n",
      "\u001b[1;32mD:\\Progs\\Media\\Anaconda\\lib\\site-packages\\spacy\\tokens\\doc.pyx\u001b[0m in \u001b[0;36mspacy.tokens.doc.Doc.set_extension\u001b[1;34m()\u001b[0m\n",
      "\u001b[1;31mValueError\u001b[0m: [E090] Extension 'title' already exists on Doc. To overwrite the existing extension, set `force=True` on `Doc.set_extension`."
     ]
    }
   ],
   "source": [
    "from spacy.tokens import Doc, Token, Span\n",
    "\n",
    "# Set extensions on the Doc, Token and Span\n",
    "Doc.set_extension(\"title\", default=None)\n",
    "Token.set_extension(\"is_color\", default=False)\n",
    "Span.set_extension(\"has_color\", default=False)"
   ]
  },
  {
   "cell_type": "markdown",
   "metadata": {},
   "source": [
    "### Set a default value that can be overwritten"
   ]
  },
  {
   "cell_type": "code",
   "execution_count": 162,
   "metadata": {},
   "outputs": [],
   "source": [
    "from spacy.tokens import Token\n",
    "\n",
    "# Set extension on the Token with default value\n",
    "Token.set_extension(\"is_color\", default=False, force=True)\n",
    "\n",
    "doc = nlp(\"The sky is blue.\")\n",
    "\n",
    "# Overwrite extension attribute value\n",
    "doc[3]._.is_color = True"
   ]
  },
  {
   "cell_type": "code",
   "execution_count": 164,
   "metadata": {},
   "outputs": [
    {
     "name": "stdout",
     "output_type": "stream",
     "text": [
      "True - blue\n"
     ]
    }
   ],
   "source": [
    "from spacy.tokens import Token\n",
    "\n",
    "# Define getter function\n",
    "def get_is_color(token):\n",
    "    colors = [\"red\", \"yellow\", \"blue\"]\n",
    "    return token.text in colors\n",
    "\n",
    "# Set extension on the Token with getter\n",
    "Token.set_extension(\"is_color\", getter=get_is_color, force=True)\n",
    "\n",
    "doc = nlp(\"The sky is blue.\")\n",
    "print(c, \"-\", doc[3].text)"
   ]
  },
  {
   "cell_type": "code",
   "execution_count": null,
   "metadata": {},
   "outputs": [],
   "source": [
    "from spacy.tokens import Doc\n",
    "\n",
    "# Define method with arguments\n",
    "def has_token(doc, token_text):\n",
    "    in_doc = token_text in [token.text for token in doc]\n",
    "    return in_doc\n",
    "\n",
    "# Set extension on the Doc with method\n",
    "Doc.set_extension(\"has_token\", method=has_token)\n",
    "\n",
    "doc = nlp(\"The sky is blue.\")\n",
    "print(doc._.has_token(\"blue\"), \"- blue\")\n",
    "print(doc._.has_token(\"cloud\"), \"- cloud\")"
   ]
  },
  {
   "cell_type": "code",
   "execution_count": null,
   "metadata": {},
   "outputs": [],
   "source": []
  },
  {
   "cell_type": "code",
   "execution_count": null,
   "metadata": {},
   "outputs": [],
   "source": []
  },
  {
   "cell_type": "code",
   "execution_count": null,
   "metadata": {},
   "outputs": [],
   "source": []
  },
  {
   "cell_type": "code",
   "execution_count": null,
   "metadata": {},
   "outputs": [],
   "source": []
  },
  {
   "cell_type": "code",
   "execution_count": null,
   "metadata": {},
   "outputs": [],
   "source": []
  }
 ],
 "metadata": {
  "kernelspec": {
   "display_name": "Python 3",
   "language": "python",
   "name": "python3"
  },
  "language_info": {
   "codemirror_mode": {
    "name": "ipython",
    "version": 3
   },
   "file_extension": ".py",
   "mimetype": "text/x-python",
   "name": "python",
   "nbconvert_exporter": "python",
   "pygments_lexer": "ipython3",
   "version": "3.7.6"
  }
 },
 "nbformat": 4,
 "nbformat_minor": 2
}
